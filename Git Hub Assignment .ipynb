{
 "cells": [
  {
   "cell_type": "markdown",
   "metadata": {},
   "source": [
    "# Report on First Assignmnet explaining steps carried out, problems encountered and solutions found while solving the task. \n",
    "\n",
    "* Create a GitHub repository \n",
    "* Create a folder inside the repository\n",
    "* Push an \"empty\" Notebook to the repository"
   ]
  },
  {
   "cell_type": "markdown",
   "metadata": {},
   "source": [
    "# Task 1 - Create a GitHub Repository\n",
    "* on your GitHub account, click the drop down arrow beside the plus sign at the top right of the interface\n",
    "* give a name to the repository\n",
    "* give a description to the repository (optional)\n",
    "* choose wheter the repository is public or private\n",
    "* check the box to initalize repository with a README file\n",
    "* click the create repository button\n",
    "\n",
    "\n",
    "### Problem Encountered\n",
    "* No problem was encountered in creating the GitHub Repository as the explanation was straight forward and clear. \n",
    "\n"
   ]
  },
  {
   "cell_type": "markdown",
   "metadata": {},
   "source": [
    "# Task 2 - Create a folder inside the repository\n",
    "### to create a folder in the repository, I execute the commands below in the GitBash interface:\n",
    "\n",
    "* cd desktop \"explains the directory of the file\"\n",
    "* cd GitHub assignment \" name of the file\"\n",
    "* git clone url \"the rrl of the repository I created\"\n",
    "* copy the folder created inisde the directory\n",
    "* cd repository name \n",
    "* git add.\n",
    "* git commit -m \"first assignment\"\n",
    "* git  push\n",
    "* refresh github\n",
    "\n",
    "## Problem Encountered\n",
    "\n",
    "* The problem  faced in this task was that I created multiple file inside this repository and I could not find any and I later got to find out that I was doing it the wrong way. I needed to ask question. \n",
    "\n",
    "\n",
    "## Solutions Found\n",
    "\n",
    "* The solution I got was I asked a question on the slack workspace and \"admin John\" gave a response and directed me to a vidoe he uploaded that explains the step by step procedure in carrying out the task.  "
   ]
  },
  {
   "cell_type": "markdown",
   "metadata": {},
   "source": [
    "# Task 3- Push an empty Notebook to the repository \n",
    "\n",
    "* To push an empty notebook into the repository, the command \"git push\" is run beneath the commands listed in step 2 above in the GitBash interface. \n",
    "\n",
    "### Problem Encountered\n",
    "\n",
    " * No problem was encountered. "
   ]
  },
  {
   "cell_type": "code",
   "execution_count": null,
   "metadata": {
    "collapsed": true
   },
   "outputs": [],
   "source": []
  }
 ],
 "metadata": {
  "kernelspec": {
   "display_name": "Python 3",
   "language": "python",
   "name": "python3"
  },
  "language_info": {
   "codemirror_mode": {
    "name": "ipython",
    "version": 3
   },
   "file_extension": ".py",
   "mimetype": "text/x-python",
   "name": "python",
   "nbconvert_exporter": "python",
   "pygments_lexer": "ipython3",
   "version": "3.6.1"
  }
 },
 "nbformat": 4,
 "nbformat_minor": 2
}
